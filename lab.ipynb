{
 "cells": [
  {
   "cell_type": "code",
   "execution_count": 4,
   "id": "90f58146",
   "metadata": {},
   "outputs": [],
   "source": [
    "import pandas as pd\n",
    "import bioinfo"
   ]
  },
  {
   "cell_type": "code",
   "execution_count": null,
   "id": "1e8074c8",
   "metadata": {},
   "outputs": [
    {
     "data": {
      "text/html": [
       "<div>\n",
       "<style scoped>\n",
       "    .dataframe tbody tr th:only-of-type {\n",
       "        vertical-align: middle;\n",
       "    }\n",
       "\n",
       "    .dataframe tbody tr th {\n",
       "        vertical-align: top;\n",
       "    }\n",
       "\n",
       "    .dataframe thead th {\n",
       "        text-align: right;\n",
       "    }\n",
       "</style>\n",
       "<table border=\"1\" class=\"dataframe\">\n",
       "  <thead>\n",
       "    <tr style=\"text-align: right;\">\n",
       "      <th></th>\n",
       "      <th>contig ID</th>\n",
       "      <th>Seq Coverage</th>\n",
       "    </tr>\n",
       "  </thead>\n",
       "  <tbody>\n",
       "    <tr>\n",
       "      <th>0</th>\n",
       "      <td>tig00000631</td>\n",
       "      <td>530.431267</td>\n",
       "    </tr>\n",
       "    <tr>\n",
       "      <th>1</th>\n",
       "      <td>tig00000105</td>\n",
       "      <td>179.243207</td>\n",
       "    </tr>\n",
       "    <tr>\n",
       "      <th>2</th>\n",
       "      <td>tig00000498</td>\n",
       "      <td>166.135377</td>\n",
       "    </tr>\n",
       "    <tr>\n",
       "      <th>3</th>\n",
       "      <td>tig00003955</td>\n",
       "      <td>159.328832</td>\n",
       "    </tr>\n",
       "    <tr>\n",
       "      <th>4</th>\n",
       "      <td>tig00000392</td>\n",
       "      <td>147.940674</td>\n",
       "    </tr>\n",
       "    <tr>\n",
       "      <th>...</th>\n",
       "      <td>...</td>\n",
       "      <td>...</td>\n",
       "    </tr>\n",
       "    <tr>\n",
       "      <th>70</th>\n",
       "      <td>tig00000588</td>\n",
       "      <td>96.514870</td>\n",
       "    </tr>\n",
       "    <tr>\n",
       "      <th>71</th>\n",
       "      <td>tig00000330</td>\n",
       "      <td>41.141802</td>\n",
       "    </tr>\n",
       "    <tr>\n",
       "      <th>72</th>\n",
       "      <td>tig00001063</td>\n",
       "      <td>10.891126</td>\n",
       "    </tr>\n",
       "    <tr>\n",
       "      <th>73</th>\n",
       "      <td>tig00000845</td>\n",
       "      <td>10.841207</td>\n",
       "    </tr>\n",
       "    <tr>\n",
       "      <th>74</th>\n",
       "      <td>tig00000917</td>\n",
       "      <td>10.170765</td>\n",
       "    </tr>\n",
       "  </tbody>\n",
       "</table>\n",
       "<p>75 rows × 2 columns</p>\n",
       "</div>"
      ],
      "text/plain": [
       "      contig ID  Seq Coverage\n",
       "0   tig00000631    530.431267\n",
       "1   tig00000105    179.243207\n",
       "2   tig00000498    166.135377\n",
       "3   tig00003955    159.328832\n",
       "4   tig00000392    147.940674\n",
       "..          ...           ...\n",
       "70  tig00000588     96.514870\n",
       "71  tig00000330     41.141802\n",
       "72  tig00001063     10.891126\n",
       "73  tig00000845     10.841207\n",
       "74  tig00000917     10.170765\n",
       "\n",
       "[75 rows x 2 columns]"
      ]
     },
     "execution_count": 11,
     "metadata": {},
     "output_type": "execute_result"
    }
   ],
   "source": [
    "df = pd.read_excel(\"Mantamonis_bacterial_contamination_analysis.xlsx\")\n",
    "df = df[[\"contig ID\", \"Seq Coverage\"]]\n",
    "df = df.sort_values(by=\"Seq Coverage\", ascending=False).reset_index(drop=True)\n",
    "df.to_excel(\"filtered_mantamonis\")"
   ]
  }
 ],
 "metadata": {
  "kernelspec": {
   "display_name": "env",
   "language": "python",
   "name": "python3"
  },
  "language_info": {
   "codemirror_mode": {
    "name": "ipython",
    "version": 3
   },
   "file_extension": ".py",
   "mimetype": "text/x-python",
   "name": "python",
   "nbconvert_exporter": "python",
   "pygments_lexer": "ipython3",
   "version": "3.12.1"
  }
 },
 "nbformat": 4,
 "nbformat_minor": 5
}
